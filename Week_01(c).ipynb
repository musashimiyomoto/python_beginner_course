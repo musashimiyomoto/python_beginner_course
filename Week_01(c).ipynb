{
 "cells": [
  {
   "cell_type": "markdown",
   "id": "824a735d",
   "metadata": {},
   "source": [
    "# Циклы"
   ]
  },
  {
   "cell_type": "markdown",
   "id": "90a3706a",
   "metadata": {},
   "source": [
    "Циклы позволяют повторять некоторое действие в зависимости от соблюдения некоторого условия."
   ]
  },
  {
   "cell_type": "markdown",
   "id": "d555229e",
   "metadata": {},
   "source": [
    "## Цикл while\n",
    "\n",
    "Первый цикл, который мы рассмотрим, это цикл while. Он имеет следующее формальное определение:"
   ]
  },
  {
   "cell_type": "markdown",
   "id": "c9b69003",
   "metadata": {},
   "source": [
    "После ключевого слова while указывается условное выражение, и пока это выражение возвращает значение True, будет выполняться блок инструкций, который идет далее.\n",
    "\n",
    "Условие записывается до тела цикла и проверяется до выполнения тела цикла. Как правило, цикл while используется, когда невозможно определить точное значение количества проходов исполнения цикла. \n",
    "\n",
    "Все инструкции, которые относятся к циклу while, располагаются на последующих строках и должны иметь отступ от начала строки."
   ]
  },
  {
   "cell_type": "code",
   "execution_count": null,
   "id": "4eba157b",
   "metadata": {},
   "outputs": [],
   "source": [
    "while True:\n",
    "    pass"
   ]
  },
  {
   "cell_type": "code",
   "execution_count": 1,
   "id": "3fc63836",
   "metadata": {},
   "outputs": [
    {
     "name": "stdout",
     "output_type": "stream",
     "text": [
      "Привет\n",
      "Для продолжения нажмите Y, а для выхода любую другую клавишу: y\n",
      "Привет\n",
      "Для продолжения нажмите Y, а для выхода любую другую клавишу: Y\n",
      "Привет\n",
      "Для продолжения нажмите Y, а для выхода любую другую клавишу: h\n",
      "Работа программы завершена\n"
     ]
    }
   ],
   "source": [
    "choice = \"y\"\n",
    " \n",
    "while choice.lower() == \"y\":\n",
    "    print(\"Привет\")\n",
    "    choice = input(\"Для продолжения нажмите Y, а для выхода любую другую клавишу: \")\n",
    "    \n",
    "print(\"Работа программы завершена\")"
   ]
  },
  {
   "cell_type": "markdown",
   "id": "ca1badbe",
   "metadata": {},
   "source": [
    "В данном случае цикл while будет продолжаться, пока переменная choice содержит латинскую букву \"Y\" или \"y\".\n",
    "\n",
    "Сам блок цикла состоит из двух инструкций. Сначала выводится сообщение \"Привет\", а потом вводится новое значение для переменной choice. И если пользователь нажмет какую-то другую клавишу, отличную от Y, произойдет выход из цикла, так как условие choice.lower() == \"y\" вернет значение False. Каждый такой проход цикла называется итерацией.\n",
    "\n",
    "Также обратите внимание, что последняя инструкция print(\"Работа программы завешена\") не имеет отступов от начала строки, поэтому она не входит в цикл while.\n",
    "\n",
    "Дугой пример - вычисление факториала:"
   ]
  },
  {
   "cell_type": "code",
   "execution_count": 2,
   "id": "15a7fc12",
   "metadata": {},
   "outputs": [
    {
     "name": "stdout",
     "output_type": "stream",
     "text": [
      "Введите число: 3\n",
      "Факториал числа 3 равен 6\n"
     ]
    }
   ],
   "source": [
    "number = int(input(\"Введите число: \")) # n! = 1 * 2 * ... * (n-1) * n\n",
    "\n",
    "i = 1\n",
    "factorial = 1\n",
    "\n",
    "while i <= number:\n",
    "    factorial *= i # factorial = factorial * \n",
    "    i += 1 # i = 4\n",
    "  \n",
    "print(\"Факториал числа\", number, \"равен\", factorial)"
   ]
  },
  {
   "cell_type": "markdown",
   "id": "1ceb3c46",
   "metadata": {},
   "source": [
    "Здесь вводит с консоли некоторое число, и пока число-счетчик i не будет больше введенного числа, будет выполняться цикл, в котором происходит умножения числа factorial.\n",
    "\n",
    "Консольный вывод:"
   ]
  },
  {
   "cell_type": "markdown",
   "id": "071cfb10",
   "metadata": {},
   "source": [
    "С помощью цикла while мы можем выполнять действия, пока условие верно.\n",
    "Выводим i, до тех пор, пока i будет меньше 6:"
   ]
  },
  {
   "cell_type": "code",
   "execution_count": 3,
   "id": "e911b100",
   "metadata": {},
   "outputs": [
    {
     "name": "stdout",
     "output_type": "stream",
     "text": [
      "1\n",
      "2\n",
      "3\n",
      "4\n",
      "5\n"
     ]
    }
   ],
   "source": [
    "i = 1  \n",
    "while i < 6:  \n",
    "    print(i)  \n",
    "    i += 1\n",
    "    \n",
    "print(3 ** 2)"
   ]
  },
  {
   "cell_type": "markdown",
   "id": "5f62dfa4",
   "metadata": {},
   "source": [
    "Для цикла while необходимо, чтобы соответствующие переменные были объявлены, в этом примере нам нужно объявить переменную индексации i, которую мы установили в 1"
   ]
  },
  {
   "cell_type": "markdown",
   "id": "b67bef98",
   "metadata": {},
   "source": [
    "После тела цикла можно написать слово else: и после него блок операций, который будет выполнен один раз после окончания цикла, когда проверяемое условие станет неверно: "
   ]
  },
  {
   "cell_type": "code",
   "execution_count": 1,
   "id": "503f4213",
   "metadata": {},
   "outputs": [
    {
     "name": "stdout",
     "output_type": "stream",
     "text": [
      "1\n",
      "2\n",
      "3\n",
      "4\n",
      "5\n",
      "6\n",
      "7\n",
      "8\n",
      "9\n",
      "10\n",
      "Цикл окончен, i = 11\n"
     ]
    }
   ],
   "source": [
    "i = 1\n",
    "while i <= 10:\n",
    "    print(i)\n",
    "    i += 1 # i = 11\n",
    "else:\n",
    "    print('Цикл окончен, i =', i)"
   ]
  },
  {
   "cell_type": "code",
   "execution_count": 5,
   "id": "c3534dcf",
   "metadata": {},
   "outputs": [
    {
     "name": "stdout",
     "output_type": "stream",
     "text": [
      "1\n",
      "2\n",
      "3\n",
      "4\n",
      "5\n",
      "6\n",
      "7\n",
      "8\n",
      "9\n",
      "10\n",
      "Цикл окончен, i = 11\n"
     ]
    }
   ],
   "source": [
    "i = 1\n",
    "while i <= 10:\n",
    "    print(i)\n",
    "    \n",
    "    i += 1 # i = 11\n",
    "    \n",
    "    if i > 10:\n",
    "        print('Цикл окончен, i =', i)\n"
   ]
  },
  {
   "cell_type": "markdown",
   "id": "fcb7da57",
   "metadata": {},
   "source": [
    "Казалось бы, никакого смысла в этом нет, ведь эту же инструкцию можно просто написать после окончания цикла. Смысл появляется только вместе с инструкцией break. Если во время выполнения Питон встречает инструкцию break внутри цикла, то он сразу же прекращает выполнение этого цикла и выходит из него. При этом ветка else исполняться не будет. Разумеется, инструкцию break осмыленно вызывать только внутри инструкции if, то есть она должна выполняться только при выполнении какого-то особенного условия.\n",
    "\n",
    "Приведем пример программы, которая считывает числа до тех пор, пока не встретит отрицательное число. При появлении отрицательного числа программа завершается. В первом варианте последовательность чисел завершается числом 0 (при считывании которого надо остановиться). "
   ]
  },
  {
   "cell_type": "code",
   "execution_count": 6,
   "id": "5774c23f",
   "metadata": {},
   "outputs": [
    {
     "name": "stdout",
     "output_type": "stream",
     "text": [
      "4\n",
      "5\n",
      "6\n",
      "1\n",
      "-3\n",
      "Встретилось отрицательное число -3\n"
     ]
    }
   ],
   "source": [
    "a = int(input())\n",
    "\n",
    "while a != 0:\n",
    "    if a < 0:\n",
    "        print('Встретилось отрицательное число', a)\n",
    "        break\n",
    "    a = int(input())    \n",
    "else:\n",
    "    print('Ни одного отрицательного числа не встретилось')"
   ]
  },
  {
   "cell_type": "markdown",
   "id": "9edf8c77",
   "metadata": {},
   "source": [
    "## Цикл for"
   ]
  },
  {
   "cell_type": "markdown",
   "id": "ff7445aa",
   "metadata": {},
   "source": [
    "Другой тип циклов представляет конструкция for. Цикл for вызывается для каждого числа в некоторой коллекции чисел. Коллекция чисел создается с помощью функции range(). Формальное определение цикла for:"
   ]
  },
  {
   "cell_type": "code",
   "execution_count": 8,
   "id": "e6df705d",
   "metadata": {},
   "outputs": [
    {
     "name": "stdout",
     "output_type": "stream",
     "text": [
      "3\n",
      "2\n",
      "f\n",
      "a\n",
      "q\n",
      "w\n",
      "r\n",
      "w\n",
      "e\n",
      "r\n"
     ]
    }
   ],
   "source": [
    "for i in '32faqwrwer': # 1, 2, 3, 4\n",
    "    print(i) "
   ]
  },
  {
   "cell_type": "markdown",
   "id": "70cccee8",
   "metadata": {},
   "source": [
    "После ключевого слова for идет переменная int_var, которая хранит целые числа (название переменной может быть любое), затем ключевое слово in, вызов функции range() и двоеточие.\n",
    "\n",
    "А со следующей строки располагается блок инструкций цикла, которые также должны иметь отступы от начала строки.\n",
    "\n",
    "При выполнении цикла Python последовательно получает все числа из коллекции, которая создается функцией range, и сохраняет эти числа в переменной int_var. При первом проходе цикл получает первое число из коллекции, при втором - второе число и так далее, пока не переберет все числа. Когда все числа в коллекции будут перебраны, цикл завершает свою работу.\n",
    "\n",
    "Рассмотрим на примере вычисления факториала:"
   ]
  },
  {
   "cell_type": "code",
   "execution_count": 9,
   "id": "9f6d3c3a",
   "metadata": {},
   "outputs": [
    {
     "name": "stdout",
     "output_type": "stream",
     "text": [
      "Введите число: 6\n",
      "Факториал числа 6 равен 720\n"
     ]
    }
   ],
   "source": [
    "number = int(input(\"Введите число: \"))\n",
    "\n",
    "factorial = 1 \n",
    "\n",
    "for i in range(1, number+1): # 1, 2, 3, 4, 5, ... n\n",
    "    factorial *= i # factorial = factorial * i\n",
    "    \n",
    "print(\"Факториал числа\", number, \"равен\", factorial)"
   ]
  },
  {
   "cell_type": "markdown",
   "id": "d5375b9a",
   "metadata": {},
   "source": [
    "Вначале вводим с консоли число. В цикле определяем переменную i, в которую сохраняются числа из коллекции, создаваемой функцией range.\n",
    "\n",
    "Функция range здесь принимает два аргумента - начальное число коллекции (здесь число 1) и число, до которого надо добавлять числа (то есть number +1).\n",
    "\n",
    "Допустим, с консоли вводится число 6, то вызов функции range приобретает следующую форму:"
   ]
  },
  {
   "cell_type": "code",
   "execution_count": 10,
   "id": "d32b03b0",
   "metadata": {},
   "outputs": [],
   "source": [
    "a = range(1, 6+1, 2) # 1, 2, 3, 4 ,5 ,6"
   ]
  },
  {
   "cell_type": "code",
   "execution_count": 12,
   "id": "3a4fde99",
   "metadata": {},
   "outputs": [
    {
     "name": "stdout",
     "output_type": "stream",
     "text": [
      "1\n",
      "3\n",
      "5\n"
     ]
    }
   ],
   "source": [
    "for i in a:\n",
    "    print(i)"
   ]
  },
  {
   "cell_type": "markdown",
   "id": "84924226",
   "metadata": {},
   "source": [
    "Эта функция будет создавать коллекцию, которая будет начинаться с 1 и будет последовательно наполняться целыми числами вплоть до 7. То есть это будет коллекция [1, 2, 3, 4, 5, 6]."
   ]
  },
  {
   "cell_type": "markdown",
   "id": "b01c37a5",
   "metadata": {},
   "source": [
    "При выполнении цикла из этой коллекции последовательно будут передаваться числа в переменную i, а в самом цикле будет происходить умножение переменной i на переменную factorial. В итоге мы получим факториал числа."
   ]
  },
  {
   "cell_type": "markdown",
   "id": "a9f0d4d4",
   "metadata": {},
   "source": [
    "### Функция range"
   ]
  },
  {
   "cell_type": "markdown",
   "id": "e372bee3",
   "metadata": {},
   "source": [
    "Функция range имеет следующие формы:\n",
    "\n",
    "* range(stop): возвращает все целые числа от 0 до stop\n",
    "\n",
    "* range(start, stop): возвращает все целые числа в промежутке от start (включая) до stop (не включая). Выше в программе факториала использована именно эта форма.\n",
    "\n",
    "* range(start, stop, step): возвращает целые числа в промежутке от start (включая) до stop (не включая), которые увеличиваются на значение step\n",
    "\n",
    "Примеры вызовов функции range:"
   ]
  },
  {
   "cell_type": "code",
   "execution_count": null,
   "id": "3b68dcbf",
   "metadata": {},
   "outputs": [],
   "source": [
    "range(4+1)            # 0, 1, 2, 3, 4\n",
    "range(1, 5)         # 1, 2, 3, 4\n",
    "range(2, 10, 2)     # 2, 4, 6, 8\n",
    "range(5, 0, -1)     # 5, 4, 3, 2, 1"
   ]
  },
  {
   "cell_type": "markdown",
   "id": "ea1a4798",
   "metadata": {},
   "source": [
    "Например, выведем последовательно все числа от 0 до 4:"
   ]
  },
  {
   "cell_type": "code",
   "execution_count": 13,
   "id": "299151d3",
   "metadata": {},
   "outputs": [
    {
     "name": "stdout",
     "output_type": "stream",
     "text": [
      "5 4 3 2 1 "
     ]
    }
   ],
   "source": [
    "for i in range(5, 0, -1):\n",
    "    for j in range(5, 0, -1)\n",
    "        "
   ]
  },
  {
   "cell_type": "markdown",
   "id": "a0236b0f",
   "metadata": {},
   "source": [
    "### Вложенные циклы"
   ]
  },
  {
   "cell_type": "markdown",
   "id": "9eb2b4f1",
   "metadata": {},
   "source": [
    "Одни циклы внутри себя могут содержать другие циклы. Рассмотрим на примере вывода таблицы умножения:"
   ]
  },
  {
   "cell_type": "code",
   "execution_count": 14,
   "id": "686edc1c",
   "metadata": {},
   "outputs": [
    {
     "name": "stdout",
     "output_type": "stream",
     "text": [
      "1\t2\t3\t4\t5\t6\t7\t8\t9\t\n",
      "\n",
      "2\t4\t6\t8\t10\t12\t14\t16\t18\t\n",
      "\n",
      "3\t6\t9\t12\t15\t18\t21\t24\t27\t\n",
      "\n",
      "4\t8\t12\t16\t20\t24\t28\t32\t36\t\n",
      "\n",
      "5\t10\t15\t20\t25\t30\t35\t40\t45\t\n",
      "\n",
      "6\t12\t18\t24\t30\t36\t42\t48\t54\t\n",
      "\n",
      "7\t14\t21\t28\t35\t42\t49\t56\t63\t\n",
      "\n",
      "8\t16\t24\t32\t40\t48\t56\t64\t72\t\n",
      "\n",
      "9\t18\t27\t36\t45\t54\t63\t72\t81\t\n",
      "\n"
     ]
    }
   ],
   "source": [
    "for i in range(1, 10):\n",
    "    \n",
    "    for j in range(1, 10):\n",
    "        \n",
    "        print(1 * j, end=\"\\t\")\n",
    "        \n",
    "    print(\"\\n\")"
   ]
  },
  {
   "cell_type": "markdown",
   "id": "0e9e5d17",
   "metadata": {},
   "source": [
    "Внешний цикл for i in range(1, 10) срабатывает 9 раз, так как в коллекции, возвращаемой функцией range, 9 чисел. Внутренний цикл for j in range(1, 10) срабатывает 9 раз для одной итерации внешнего цикла, и соответственно 81 раз для всех итераций внешнего цикла.\n",
    "\n",
    "В каждой итерации внутреннего цикла на консоль будет выводится произведение чисел i и j. В итоге мы получим следующий консольный вывод:"
   ]
  },
  {
   "cell_type": "markdown",
   "id": "88cf3bb9",
   "metadata": {},
   "source": [
    "### Выход из цикла. break и continue"
   ]
  },
  {
   "cell_type": "markdown",
   "id": "997e17d4",
   "metadata": {},
   "source": [
    "Для управления циклом мы можем использовать специальные операторы break и continue. Оператор break осуществляет выход из цикла. А оператор continue выполняет переход к следующей итерации цикла."
   ]
  },
  {
   "cell_type": "markdown",
   "id": "85dc635a",
   "metadata": {},
   "source": [
    "### Оператор break"
   ]
  },
  {
   "cell_type": "markdown",
   "id": "3a816fad",
   "metadata": {},
   "source": [
    "С помощью оператора break мы можем остановить цикл, даже если условие while истинно:"
   ]
  },
  {
   "cell_type": "code",
   "execution_count": 16,
   "id": "ba56d72d",
   "metadata": {},
   "outputs": [
    {
     "name": "stdout",
     "output_type": "stream",
     "text": [
      "1\n",
      "2\n",
      "3\n"
     ]
    }
   ],
   "source": [
    "i = 1  \n",
    "while i < 6:  \n",
    "    print(i)\n",
    "    if i == 3:  \n",
    "        break\n",
    "    i += 1"
   ]
  },
  {
   "cell_type": "markdown",
   "id": "231200b6",
   "metadata": {},
   "source": [
    "Оператор break может использоваться, если в цикле образуются условия, которые несовместимы с его дальнейшим выполнением. Рассмотрим следующий пример:"
   ]
  },
  {
   "cell_type": "code",
   "execution_count": 17,
   "id": "f0e853e2",
   "metadata": {},
   "outputs": [
    {
     "name": "stdout",
     "output_type": "stream",
     "text": [
      "Для выхода нажмите Y\n",
      "Введите сумму для обмена: 34\n",
      "К выдаче 0.61 долларов\n",
      "Введите сумму для обмена: y\n",
      "Работа обменного пункта завершена\n"
     ]
    }
   ],
   "source": [
    "print(\"Для выхода нажмите Y\")\n",
    " \n",
    "while True:\n",
    "    data = input(\"Введите сумму для обмена: \")\n",
    "    if data.lower() == \"y\":\n",
    "        break  # выход из цикла\n",
    "    money = int(data)\n",
    "    cache = round(money / 56, 2)\n",
    "    print(\"К выдаче\", cache, \"долларов\")\n",
    "    \n",
    "print(\"Работа обменного пункта завершена\")"
   ]
  },
  {
   "cell_type": "markdown",
   "id": "1df997d3",
   "metadata": {},
   "source": [
    "Здесь мы имеем дело с бесконечным циклом, так как условие while True всегда истинно и всегда будет выполняться. Это популярный прием для создания программ, которые должны выполняться неопределенно долго.\n",
    "\n",
    "В самом цикле получаем ввод с консоли. Мы предполагаем, что пользователь будет вводить число - условную сумму денег для обмена. Если пользователь вводит букву \"Y\" или \"y\", то с помощью оператора break выходим из цикла и прекращаем работу программы. Иначе делим введенную сумму на обменный курс, с помощью функции round округляем результат и выводим его на консоль. И так до бесконечности, пока пользователь не захочет выйти из программы, нажав на клавишу Y.\n"
   ]
  },
  {
   "cell_type": "markdown",
   "id": "d3268a1d",
   "metadata": {},
   "source": [
    "Далее после того, как мы рассмотрим следующий оператор, мы улучшим нашу программу."
   ]
  },
  {
   "cell_type": "markdown",
   "id": "b294807e",
   "metadata": {},
   "source": [
    "### Оператор continue"
   ]
  },
  {
   "cell_type": "markdown",
   "id": "83396d8a",
   "metadata": {},
   "source": [
    "С помощью оператора continue мы можем остановить текущую итерацию и перейти к выполнению следующей:\n",
    "Продолжайте до следующей итерации пока i равна 3:"
   ]
  },
  {
   "cell_type": "code",
   "execution_count": null,
   "id": "77dcabc9",
   "metadata": {},
   "outputs": [],
   "source": [
    "i = 0 \n",
    "while i < 6:\n",
    "    i += 1  \n",
    "    \n",
    "    if i == 3:  \n",
    "        continue \n",
    "        \n",
    "    print(i)\n",
    "    print('vlavlval')"
   ]
  },
  {
   "cell_type": "markdown",
   "id": "428e99a8",
   "metadata": {},
   "source": [
    "Рассмотрим предыдущую задачу."
   ]
  },
  {
   "cell_type": "markdown",
   "id": "2df9b43f",
   "metadata": {},
   "source": [
    "Но что, если пользователь введет отрицательное число? В этом случае программа также выдаст отрицательный результат, что не является корректным поведением. И в этом случае перед вычислением мы можем проверить значение, меньше ли оно нуля, и если меньше, с помощью оператора continue выполнить переход к следующей итерации цикла без его завершения:"
   ]
  },
  {
   "cell_type": "code",
   "execution_count": 20,
   "id": "230b4854",
   "metadata": {},
   "outputs": [
    {
     "name": "stdout",
     "output_type": "stream",
     "text": [
      "Для выхода нажмите Y\n",
      "Введите сумму для обмена: 324\n",
      "ПЛохие данные!\n",
      "Введите сумму для обмена: 23\n",
      "ПЛохие данные!\n",
      "Введите сумму для обмена: -5\n",
      "ПЛохие данные!\n",
      "Введите сумму для обмена: fd\n",
      "ПЛохие данные!\n",
      "Введите сумму для обмена: s\n",
      "ПЛохие данные!\n",
      "Введите сумму для обмена: a\n",
      "ПЛохие данные!\n"
     ]
    },
    {
     "ename": "KeyboardInterrupt",
     "evalue": "Interrupted by user",
     "output_type": "error",
     "traceback": [
      "\u001B[0;31m---------------------------------------------------------------------------\u001B[0m",
      "\u001B[0;31mKeyboardInterrupt\u001B[0m                         Traceback (most recent call last)",
      "\u001B[0;32m/tmp/ipykernel_8011/2381624093.py\u001B[0m in \u001B[0;36m<module>\u001B[0;34m\u001B[0m\n\u001B[1;32m      2\u001B[0m \u001B[0;34m\u001B[0m\u001B[0m\n\u001B[1;32m      3\u001B[0m \u001B[0;32mwhile\u001B[0m \u001B[0;32mTrue\u001B[0m\u001B[0;34m:\u001B[0m\u001B[0;34m\u001B[0m\u001B[0;34m\u001B[0m\u001B[0m\n\u001B[0;32m----> 4\u001B[0;31m     \u001B[0mdata\u001B[0m \u001B[0;34m=\u001B[0m \u001B[0minput\u001B[0m\u001B[0;34m(\u001B[0m\u001B[0;34m\"Введите сумму для обмена: \"\u001B[0m\u001B[0;34m)\u001B[0m\u001B[0;34m\u001B[0m\u001B[0;34m\u001B[0m\u001B[0m\n\u001B[0m\u001B[1;32m      5\u001B[0m     \u001B[0;32mif\u001B[0m \u001B[0mdata\u001B[0m\u001B[0;34m.\u001B[0m\u001B[0mlower\u001B[0m\u001B[0;34m(\u001B[0m\u001B[0;34m)\u001B[0m \u001B[0;34m==\u001B[0m \u001B[0;34m\"y\"\u001B[0m\u001B[0;34m:\u001B[0m\u001B[0;34m\u001B[0m\u001B[0;34m\u001B[0m\u001B[0m\n\u001B[1;32m      6\u001B[0m         \u001B[0;32mbreak\u001B[0m  \u001B[0;31m# выход из цикла\u001B[0m\u001B[0;34m\u001B[0m\u001B[0;34m\u001B[0m\u001B[0m\n",
      "\u001B[0;32m~/PycharmProjects/IBA_course/venv/lib/python3.8/site-packages/ipykernel/kernelbase.py\u001B[0m in \u001B[0;36mraw_input\u001B[0;34m(self, prompt)\u001B[0m\n\u001B[1;32m    979\u001B[0m                 \u001B[0;34m\"raw_input was called, but this frontend does not support input requests.\"\u001B[0m\u001B[0;34m\u001B[0m\u001B[0;34m\u001B[0m\u001B[0m\n\u001B[1;32m    980\u001B[0m             )\n\u001B[0;32m--> 981\u001B[0;31m         return self._input_request(\n\u001B[0m\u001B[1;32m    982\u001B[0m             \u001B[0mstr\u001B[0m\u001B[0;34m(\u001B[0m\u001B[0mprompt\u001B[0m\u001B[0;34m)\u001B[0m\u001B[0;34m,\u001B[0m\u001B[0;34m\u001B[0m\u001B[0;34m\u001B[0m\u001B[0m\n\u001B[1;32m    983\u001B[0m             \u001B[0mself\u001B[0m\u001B[0;34m.\u001B[0m\u001B[0m_parent_ident\u001B[0m\u001B[0;34m[\u001B[0m\u001B[0;34m\"shell\"\u001B[0m\u001B[0;34m]\u001B[0m\u001B[0;34m,\u001B[0m\u001B[0;34m\u001B[0m\u001B[0;34m\u001B[0m\u001B[0m\n",
      "\u001B[0;32m~/PycharmProjects/IBA_course/venv/lib/python3.8/site-packages/ipykernel/kernelbase.py\u001B[0m in \u001B[0;36m_input_request\u001B[0;34m(self, prompt, ident, parent, password)\u001B[0m\n\u001B[1;32m   1024\u001B[0m             \u001B[0;32mexcept\u001B[0m \u001B[0mKeyboardInterrupt\u001B[0m\u001B[0;34m:\u001B[0m\u001B[0;34m\u001B[0m\u001B[0;34m\u001B[0m\u001B[0m\n\u001B[1;32m   1025\u001B[0m                 \u001B[0;31m# re-raise KeyboardInterrupt, to truncate traceback\u001B[0m\u001B[0;34m\u001B[0m\u001B[0;34m\u001B[0m\u001B[0;34m\u001B[0m\u001B[0m\n\u001B[0;32m-> 1026\u001B[0;31m                 \u001B[0;32mraise\u001B[0m \u001B[0mKeyboardInterrupt\u001B[0m\u001B[0;34m(\u001B[0m\u001B[0;34m\"Interrupted by user\"\u001B[0m\u001B[0;34m)\u001B[0m \u001B[0;32mfrom\u001B[0m \u001B[0;32mNone\u001B[0m\u001B[0;34m\u001B[0m\u001B[0;34m\u001B[0m\u001B[0m\n\u001B[0m\u001B[1;32m   1027\u001B[0m             \u001B[0;32mexcept\u001B[0m \u001B[0mException\u001B[0m \u001B[0;32mas\u001B[0m \u001B[0me\u001B[0m\u001B[0;34m:\u001B[0m\u001B[0;34m\u001B[0m\u001B[0;34m\u001B[0m\u001B[0m\n\u001B[1;32m   1028\u001B[0m                 \u001B[0mself\u001B[0m\u001B[0;34m.\u001B[0m\u001B[0mlog\u001B[0m\u001B[0;34m.\u001B[0m\u001B[0mwarning\u001B[0m\u001B[0;34m(\u001B[0m\u001B[0;34m\"Invalid Message:\"\u001B[0m\u001B[0;34m,\u001B[0m \u001B[0mexc_info\u001B[0m\u001B[0;34m=\u001B[0m\u001B[0;32mTrue\u001B[0m\u001B[0;34m)\u001B[0m\u001B[0;34m\u001B[0m\u001B[0;34m\u001B[0m\u001B[0m\n",
      "\u001B[0;31mKeyboardInterrupt\u001B[0m: Interrupted by user"
     ]
    }
   ],
   "source": [
    "print(\"Для выхода нажмите Y\")\n",
    " \n",
    "while True:\n",
    "    data = input(\"Введите сумму для обмена: \")\n",
    "    if data.lower() == \"y\":\n",
    "        break  # выход из цикла\n",
    "        \n",
    "    if type(data) != int:\n",
    "        print(\"ПЛохие данные!\")\n",
    "        continue\n",
    "    \n",
    "    money = int(data)\n",
    "    \n",
    "    if money < 0:\n",
    "        print(\"ПЛохие данные!\")\n",
    "        continue\n",
    "    cache = round(money / 56, 2)\n",
    "    print(\"К выдаче\", cache, \"долларов\")\n",
    "\n",
    "print(\"Работа обменного пункта завершена\")"
   ]
  },
  {
   "cell_type": "markdown",
   "id": "4e42e4e7",
   "metadata": {},
   "source": [
    "Увлечение инструкциями break и continue не поощряется, если можно обойтись без их использования. Вот типичный пример плохого использования инструкции break (данный код считает количество знаков в числе). "
   ]
  },
  {
   "cell_type": "markdown",
   "id": "b874a4eb",
   "metadata": {},
   "source": [
    "### Задачи по циклам."
   ]
  },
  {
   "cell_type": "markdown",
   "id": "2a085c93",
   "metadata": {},
   "source": [
    "1. Задан некоторый список A содержащий целые числа. Используя инструкцию while разработать программу, которая вычисляет сумму элементов списка."
   ]
  },
  {
   "cell_type": "code",
   "execution_count": 22,
   "id": "6a3cf31b",
   "metadata": {},
   "outputs": [
    {
     "name": "stdout",
     "output_type": "stream",
     "text": [
      "14\n"
     ]
    }
   ],
   "source": [
    "A = [2, 3, 4, 5]\n",
    "\n",
    "i = 0\n",
    "S = 0\n",
    "len_A = len(A)\n",
    "\n",
    "while i < len_A:\n",
    "    S += A[i]\n",
    "    i += 1\n",
    "\n",
    "print(S)"
   ]
  },
  {
   "cell_type": "code",
   "execution_count": 24,
   "id": "66e32441",
   "metadata": {},
   "outputs": [
    {
     "name": "stdout",
     "output_type": "stream",
     "text": [
      "14\n"
     ]
    }
   ],
   "source": [
    "A = [2, 3, 4, 5]\n",
    "\n",
    "S = 0\n",
    "len_A = len(A)\n",
    "\n",
    "for i in range(len_A):\n",
    "    S += A[i]\n",
    "\n",
    "print(S)"
   ]
  },
  {
   "cell_type": "markdown",
   "id": "4615e99b",
   "metadata": {},
   "source": [
    "2.  Подсчет количества вхождений заданного объекта в списке."
   ]
  },
  {
   "cell_type": "code",
   "execution_count": null,
   "id": "9bfc9614",
   "metadata": {},
   "outputs": [],
   "source": [
    "## your code here"
   ]
  },
  {
   "cell_type": "markdown",
   "id": "1fb3f4da",
   "metadata": {},
   "source": [
    "3. Задан список строк. В каждой строке подсчитать количество вхождений заданного символа"
   ]
  },
  {
   "cell_type": "code",
   "execution_count": null,
   "id": "6c49fa99",
   "metadata": {},
   "outputs": [],
   "source": [
    "mass = ['2232ds', '2e12e', 'ewdwx']"
   ]
  },
  {
   "cell_type": "markdown",
   "id": "45431611",
   "metadata": {},
   "source": [
    "4. Найдите количество различных элементов данного массива."
   ]
  },
  {
   "cell_type": "code",
   "execution_count": 25,
   "id": "c3979297",
   "metadata": {},
   "outputs": [
    {
     "data": {
      "text/plain": [
       "{2, 4, 5}"
      ]
     },
     "execution_count": 25,
     "metadata": {},
     "output_type": "execute_result"
    }
   ],
   "source": []
  },
  {
   "cell_type": "markdown",
   "id": "cd04f326",
   "metadata": {},
   "source": [
    "# Функции"
   ]
  },
  {
   "cell_type": "markdown",
   "id": "20a77573",
   "metadata": {},
   "source": [
    "Функции представляют блок кода, который выполняет определенную задачу и который можно повторно использовать в других частях программы. Формальное определение функции:"
   ]
  },
  {
   "cell_type": "code",
   "execution_count": 26,
   "id": "136cf07a",
   "metadata": {},
   "outputs": [
    {
     "data": {
      "text/plain": [
       "int"
      ]
     },
     "execution_count": 26,
     "metadata": {},
     "output_type": "execute_result"
    }
   ],
   "source": [
    "type(3)"
   ]
  },
  {
   "cell_type": "code",
   "execution_count": 28,
   "id": "98c197d8",
   "metadata": {},
   "outputs": [
    {
     "ename": "SyntaxError",
     "evalue": "unexpected EOF while parsing (1348103689.py, line 2)",
     "output_type": "error",
     "traceback": [
      "\u001B[0;36m  File \u001B[0;32m\"/tmp/ipykernel_8011/1348103689.py\"\u001B[0;36m, line \u001B[0;32m2\u001B[0m\n\u001B[0;31m    \u001B[0m\n\u001B[0m    ^\u001B[0m\n\u001B[0;31mSyntaxError\u001B[0m\u001B[0;31m:\u001B[0m unexpected EOF while parsing\n"
     ]
    }
   ],
   "source": [
    "def main():\n",
    "    pass"
   ]
  },
  {
   "cell_type": "markdown",
   "id": "e7654dd6",
   "metadata": {},
   "source": [
    "Определение функции начинается с выражения def, которое состоит из имени функции, набора скобок с параметрами и двоеточия. Параметры в скобках необязательны. А со следующей строки идет блок инструкций, которые выполняет функция. Все инструкции функции имеют отступы от начала строки.\n",
    "\n",
    "Например, определение простейшей функции:"
   ]
  },
  {
   "cell_type": "code",
   "execution_count": 29,
   "id": "e09e3d2d",
   "metadata": {},
   "outputs": [],
   "source": [
    "def say_hello():\n",
    "    print(\"Hello\")"
   ]
  },
  {
   "cell_type": "markdown",
   "id": "04ed9b35",
   "metadata": {},
   "source": [
    "Функция называется say_hello. Она не имеет параметров и содержит одну единственную инструкцию, которая выводит на консоль строку \"Hello\".\n",
    "\n",
    "Для вызова функции указывается имя функции, после которого в скобках идет передача значений для всех ее параметров. Например:"
   ]
  },
  {
   "cell_type": "code",
   "execution_count": 30,
   "id": "ba57e09c",
   "metadata": {},
   "outputs": [
    {
     "name": "stdout",
     "output_type": "stream",
     "text": [
      "Hello\n",
      "Hello\n",
      "Hello\n"
     ]
    }
   ],
   "source": [
    "say_hello()\n",
    "say_hello()\n",
    "say_hello()"
   ]
  },
  {
   "cell_type": "markdown",
   "id": "38d3129e",
   "metadata": {},
   "source": [
    "Теперь определим и используем функцию с параметрами:"
   ]
  },
  {
   "cell_type": "code",
   "execution_count": 33,
   "id": "da81671f",
   "metadata": {},
   "outputs": [
    {
     "name": "stdout",
     "output_type": "stream",
     "text": [
      "Hello, Joseph\n",
      "Hello, Mama\n",
      "Hello, Father\n"
     ]
    }
   ],
   "source": [
    "def say_hello(name):\n",
    "    print(\"Hello, \" + name)\n",
    "    \n",
    "say_hello('Joseph')\n",
    "say_hello('Mama')\n",
    "say_hello('Father')"
   ]
  },
  {
   "cell_type": "markdown",
   "id": "8964d100",
   "metadata": {},
   "source": [
    "### Значения по умолчанию\n",
    "\n",
    "Некоторые параметры функции мы можем сделать необязательными, указав для них значения по умолчанию при определении функции. Например:"
   ]
  },
  {
   "cell_type": "code",
   "execution_count": 38,
   "id": "0482f756",
   "metadata": {},
   "outputs": [
    {
     "name": "stdout",
     "output_type": "stream",
     "text": [
      "Hello, Tom 17\n",
      "Hello, Bob 18\n"
     ]
    }
   ],
   "source": [
    "def say_hello(name, age=17):\n",
    "    print(\"Hello,\", name, age)\n",
    "     \n",
    "say_hello('Tom')\n",
    "say_hello(\"Bob\", 18)"
   ]
  },
  {
   "cell_type": "markdown",
   "id": "b1a55d81",
   "metadata": {},
   "source": [
    "Здесь параметр name является необязательным. И если мы не передаем при вызове функции для него значение, то применяется значение по умолчанию, то есть строка \"Tom\".\n",
    "Именованные параметры\n",
    "\n",
    "При передаче значений функция сопоставляет их с параметрами в том порядке, в котором они передаются. Например, пусть есть следующая функция:"
   ]
  },
  {
   "cell_type": "code",
   "execution_count": 39,
   "id": "5c30794c",
   "metadata": {},
   "outputs": [
    {
     "name": "stdout",
     "output_type": "stream",
     "text": [
      "Name: 22 \t Age: Tom\n"
     ]
    }
   ],
   "source": [
    "def display_info(name, age):\n",
    "    print(\"Name:\", name, \"\\t\", \"Age:\", age)\n",
    "     \n",
    "display_info(22, 'Tom')"
   ]
  },
  {
   "cell_type": "markdown",
   "id": "fc4702c5",
   "metadata": {},
   "source": [
    "При вызове функции первое значение \"Tom\" передается первому параметру - параметру name, второе значение - число 22 передается второму параметру - age. И так далее по порядку. Использование именованных параметров позволяет переопределить порядок передачи:"
   ]
  },
  {
   "cell_type": "code",
   "execution_count": 41,
   "id": "3cde6bbb",
   "metadata": {},
   "outputs": [
    {
     "name": "stdout",
     "output_type": "stream",
     "text": [
      "Name: re3de \t Age: 32\n"
     ]
    }
   ],
   "source": [
    "def display_info(name, age):\n",
    "    print(\"Name:\", name, \"\\t\", \"Age:\", age)\n",
    "     \n",
    "display_info(age=32, name='re3de')"
   ]
  },
  {
   "cell_type": "markdown",
   "id": "89838d14",
   "metadata": {},
   "source": [
    "Именованные параметры предполагают указание имени параметра с присвоением ему значения при вызове функции.\n",
    "\n",
    "### Неопределенное количество параметров\n",
    "\n",
    "С помощью символа звездочки можно определить неопределенное количество параметров:"
   ]
  },
  {
   "cell_type": "code",
   "execution_count": null,
   "id": "79ab47cb",
   "metadata": {},
   "outputs": [],
   "source": [
    "sum([3, 4, 2, 3])"
   ]
  },
  {
   "cell_type": "code",
   "execution_count": 43,
   "id": "5f4cf6be",
   "metadata": {},
   "outputs": [
    {
     "ename": "TypeError",
     "evalue": "sum() takes at most 2 arguments (4 given)",
     "output_type": "error",
     "traceback": [
      "\u001B[0;31m---------------------------------------------------------------------------\u001B[0m",
      "\u001B[0;31mTypeError\u001B[0m                                 Traceback (most recent call last)",
      "\u001B[0;32m/tmp/ipykernel_8011/620246719.py\u001B[0m in \u001B[0;36m<module>\u001B[0;34m\u001B[0m\n\u001B[0;32m----> 1\u001B[0;31m \u001B[0msum\u001B[0m\u001B[0;34m(\u001B[0m\u001B[0;36m2\u001B[0m\u001B[0;34m,\u001B[0m \u001B[0;36m3\u001B[0m\u001B[0;34m,\u001B[0m \u001B[0;36m4\u001B[0m\u001B[0;34m,\u001B[0m \u001B[0;36m5\u001B[0m\u001B[0;34m)\u001B[0m\u001B[0;34m\u001B[0m\u001B[0;34m\u001B[0m\u001B[0m\n\u001B[0m",
      "\u001B[0;31mTypeError\u001B[0m: sum() takes at most 2 arguments (4 given)"
     ]
    }
   ],
   "source": [
    "sum(2, 3, 4, 5)"
   ]
  },
  {
   "cell_type": "code",
   "execution_count": 42,
   "id": "8f157ddd",
   "metadata": {},
   "outputs": [],
   "source": [
    "def main(a, b):\n",
    "    print(a + b)"
   ]
  },
  {
   "cell_type": "code",
   "execution_count": 44,
   "id": "273e46ee",
   "metadata": {},
   "outputs": [
    {
     "name": "stdout",
     "output_type": "stream",
     "text": [
      "(1, 2, 3, 4, 5, 5, 61, 13)\n",
      "(3, 4, 5, 6)\n",
      "None\n",
      "None\n"
     ]
    }
   ],
   "source": [
    "def sum(*params):\n",
    "    result = 0\n",
    "    for n in params:\n",
    "        result += n\n",
    "    return result\n",
    " \n",
    "sumOfNumbers1 = sum(1, 2, 3, 4, 5, 5, 61, 13, 323, 43)      # 15\n",
    "sumOfNumbers2 = sum(3, 4, 5, 6)         # 18\n",
    "\n",
    "print(sumOfNumbers1)\n",
    "print(sumOfNumbers2)"
   ]
  },
  {
   "cell_type": "markdown",
   "id": "350ab583",
   "metadata": {},
   "source": [
    "В данном случае функция sum принимает один параметр - *params, но звездочка перед названием параметра указывает, что фактически на место этого параметра мы можем передать неопределенное количество значений или набор значений. В самой функции с помощью цикла for можно пройтись по этому набору и произвести с переданными значениями различные действия. Например, в данном случае возвращается сумма чисел.\n",
    "\n",
    "### Возвращение результата\n",
    "\n",
    "Функция может возвращать результат. Для этого в функции используется оператор return, после которого указывается возвращаемое значение:"
   ]
  },
  {
   "cell_type": "code",
   "execution_count": 45,
   "id": "dfbe8422",
   "metadata": {},
   "outputs": [
    {
     "name": "stdout",
     "output_type": "stream",
     "text": [
      "500.0\n",
      "535.71\n",
      "461.54\n"
     ]
    }
   ],
   "source": [
    "def exchange(usd_rate, money):\n",
    "    result = round(money/usd_rate, 2)\n",
    "    return result\n",
    " \n",
    "result1 = exchange(60, 30000)\n",
    "print(result1)\n",
    "\n",
    "result2 = exchange(56, 30000)\n",
    "print(result2)\n",
    "\n",
    "result3 = exchange(65, 30000)\n",
    "print(result3)"
   ]
  },
  {
   "cell_type": "markdown",
   "id": "25e5b15f",
   "metadata": {},
   "source": [
    "Поскольку функция возвращает значение, то мы можем присвоить это значение какой-либо переменной и затем использовать ее: result2 = exchange(56, 30000).\n",
    "\n",
    "В Python функция может возвращать сразу несколько значений:"
   ]
  },
  {
   "cell_type": "code",
   "execution_count": 48,
   "id": "b71eb8cc",
   "metadata": {},
   "outputs": [
    {
     "name": "stdout",
     "output_type": "stream",
     "text": [
      "Name: Tom \t Age: 33\n"
     ]
    }
   ],
   "source": [
    "def create_default_user():\n",
    "    name = \"Tom\"\n",
    "    age = 33\n",
    "    return name, age, name * age, 4\n",
    " \n",
    "user_name, _, _, _ = create_default_user()\n",
    "print(\"Name:\", user_name, \"\\t Age:\", user_age)"
   ]
  },
  {
   "cell_type": "markdown",
   "id": "2381e3c8",
   "metadata": {},
   "source": [
    "Здесь функция create_default_user возвращает два значения: name и age. При вызове функции эти значения по порядку присваиваются переменным user_name и user_age, и мы их можем использовать.\n",
    "\n",
    "### Функция main\n",
    "\n",
    "В программе может быть определено множество функций. И чтобы всех их упорядочить, хорошей практикой считается добавление специальной функции main, в которой потом уже вызываются другие функции:"
   ]
  },
  {
   "cell_type": "code",
   "execution_count": null,
   "id": "2393a1dd",
   "metadata": {},
   "outputs": [],
   "source": [
    "def say_hello(name):\n",
    "    print(\"Hello,\", name)\n",
    "     \n",
    "        \n",
    "def exchange(usd_rate, money):\n",
    "    result = round(money/usd_rate, 2)\n",
    "    return result\n",
    "\n",
    "\n",
    "def main():\n",
    "    say_hello(\"Tom\")\n",
    "    usd_rate = 56\n",
    "    money = 30000\n",
    "    result = exchange(usd_rate, money)\n",
    "    print(\"К выдаче\", result, \"долларов\")\n",
    "\n",
    "main()"
   ]
  },
  {
   "cell_type": "markdown",
   "id": "ec91d96e",
   "metadata": {},
   "source": [
    "## Анонимные функции."
   ]
  },
  {
   "cell_type": "markdown",
   "id": "02c07db2",
   "metadata": {},
   "source": [
    "В Python лямбда-выражение позволяет создавать анонимные функции - функции, которые не привязаны к имени."
   ]
  },
  {
   "cell_type": "markdown",
   "id": "bb2d482e",
   "metadata": {},
   "source": [
    "В анонимной функции:\n",
    "\n",
    "        * может содержаться только одно выражение\n",
    "        * могут передаваться сколько угодно аргументов\n",
    "\n",
    "Стандартная функция:"
   ]
  },
  {
   "cell_type": "code",
   "execution_count": null,
   "id": "b059d8e1",
   "metadata": {},
   "outputs": [],
   "source": [
    "def sum_nums(a, b): \n",
    "    return a + b\n",
    "\n",
    "print(sum_nums(2, 3))"
   ]
  },
  {
   "cell_type": "markdown",
   "id": "18b07a93",
   "metadata": {},
   "source": [
    "Аналогичная анонимная функция, или лямбда-функция:"
   ]
  },
  {
   "cell_type": "code",
   "execution_count": 52,
   "id": "5941897c",
   "metadata": {},
   "outputs": [
    {
     "data": {
      "text/plain": [
       "<function __main__.<lambda>(a, b)>"
      ]
     },
     "execution_count": 52,
     "metadata": {},
     "output_type": "execute_result"
    }
   ],
   "source": [
    "lambda a, b: a + b"
   ]
  },
  {
   "cell_type": "code",
   "execution_count": 50,
   "id": "1ca3cf0f",
   "metadata": {},
   "outputs": [
    {
     "data": {
      "text/plain": [
       "7"
      ]
     },
     "execution_count": 50,
     "metadata": {},
     "output_type": "execute_result"
    }
   ],
   "source": [
    "red(3, 4)"
   ]
  },
  {
   "cell_type": "markdown",
   "id": "1037a718",
   "metadata": {},
   "source": [
    "# list, tuple, set"
   ]
  },
  {
   "cell_type": "markdown",
   "id": "c9b09d32",
   "metadata": {},
   "source": [
    "List (список), tuple (кортеж), set (множество) - это встроенные структуры данных языка python. Каждая из них имеет свои возможности и ограничения. Это позволяет выбрать наиболее подходящий способ хранения информации в программе."
   ]
  },
  {
   "cell_type": "markdown",
   "id": "82f46774",
   "metadata": {},
   "source": [
    "## List "
   ]
  },
  {
   "cell_type": "markdown",
   "id": "a92f17a7",
   "metadata": {},
   "source": [
    "Базовая структура данных в python. Элементы в списке хранятся последовательно, каждому из них присвоены индексы, начиная с нуля. В отличие от массива, список может хранить объекты любого типа. "
   ]
  },
  {
   "cell_type": "code",
   "execution_count": 53,
   "id": "7e3de13b",
   "metadata": {},
   "outputs": [
    {
     "data": {
      "text/plain": [
       "'d'"
      ]
     },
     "execution_count": 53,
     "metadata": {},
     "output_type": "execute_result"
    }
   ],
   "source": [
    "string = 'fsfsdfa'\n",
    "\n",
    "string[4]"
   ]
  },
  {
   "cell_type": "code",
   "execution_count": 55,
   "id": "77ebd5af",
   "metadata": {},
   "outputs": [],
   "source": [
    "my_list = [] # Создание пустого списка с помощью литерала списка\n",
    "my_list = list() # Создание пустого списка с помощью встроенной функции\n",
    "\n",
    "my_list = [1, 2, ['a','b'], 4, 5, '3sdasdwq'] # Инициализация списка\n",
    "my_list = list('hello world') # Создание списка из итерируемого объекта\n",
    "\n",
    "my_list = [x ** 2 for x in range(10)] # Генератор списков в действии"
   ]
  },
  {
   "cell_type": "code",
   "execution_count": null,
   "id": "a8dc822c",
   "metadata": {},
   "outputs": [],
   "source": []
  },
  {
   "cell_type": "code",
   "execution_count": 54,
   "id": "b776d6f7",
   "metadata": {},
   "outputs": [
    {
     "name": "stdout",
     "output_type": "stream",
     "text": [
      "['m', 'y', '_', 'l', 'i', 's', 't']\n"
     ]
    }
   ],
   "source": [
    "print(list('my_list'))"
   ]
  },
  {
   "cell_type": "code",
   "execution_count": 57,
   "id": "0818d3e4",
   "metadata": {},
   "outputs": [],
   "source": [
    "my_list = [(x ** 2) for x in range(10)]"
   ]
  },
  {
   "cell_type": "markdown",
   "id": "c15bda09",
   "metadata": {},
   "source": [
    "Доступные методы\n",
    "\n",
    "* my_list.append(x) - добавляет x в конец списка\n",
    "* my_list.clear() - очищает список\n",
    "* my_list.copy() - возвращает копию списка my_list\n",
    "* my_list.count(x) - возвращает кол-во элементов со значением x\n",
    "* my_list.extend(x) - добавляет элементы списка x к концу списка my_list\n",
    "* my_list.index(x,start,end) - возвращает индекс первого найденного x, можно задать промежуток для поиска (опционально)\n",
    "* my_list.insert(index, x) - вставляет x на заданную позицию\n",
    "* my_list.pop(index) - возвращает элемент с указанным индексом и удаляет его, если индекс не указан - возвращается и удаляется последний элемент\n",
    "* my_list.remove(x) - удаляет первый элемент со значением x\n",
    "* my_list.reverse() - инвертирует порядок элементов в списке\n",
    "* my_list.sort(key=x) сортирует список на основе функции x\n"
   ]
  },
  {
   "cell_type": "markdown",
   "id": "03a4d1ed",
   "metadata": {},
   "source": [
    "Рассмотрим все методы более детальнее."
   ]
  },
  {
   "cell_type": "markdown",
   "id": "7a0512a3",
   "metadata": {},
   "source": [
    "### 1) .append(x)"
   ]
  },
  {
   "cell_type": "code",
   "execution_count": 60,
   "id": "1aa1dc2a",
   "metadata": {},
   "outputs": [
    {
     "name": "stdout",
     "output_type": "stream",
     "text": [
      "[1, 2, 4, 5, True, 'string', 2, 3]\n"
     ]
    }
   ],
   "source": [
    "listik = [1, 2, 4, 5, True, 'string']\n",
    "\n",
    "listik.append(2)\n",
    "listik.append(3)\n",
    "\n",
    "print(listik)"
   ]
  },
  {
   "cell_type": "markdown",
   "id": "302c0662",
   "metadata": {},
   "source": [
    "### 2) .clear()"
   ]
  },
  {
   "cell_type": "code",
   "execution_count": 61,
   "id": "8ca5e2bc",
   "metadata": {},
   "outputs": [
    {
     "name": "stdout",
     "output_type": "stream",
     "text": [
      "[]\n"
     ]
    }
   ],
   "source": [
    "listik = [1, 2, 4, 5, True, 'string']\n",
    "\n",
    "listik.clear()\n",
    "\n",
    "print(listik)"
   ]
  },
  {
   "cell_type": "markdown",
   "id": "7e4dca19",
   "metadata": {},
   "source": [
    "### 3) .copy()"
   ]
  },
  {
   "cell_type": "code",
   "execution_count": 63,
   "id": "09e34435",
   "metadata": {},
   "outputs": [
    {
     "name": "stdout",
     "output_type": "stream",
     "text": [
      "['reedsd', 2, 4, 5, True, 'string']\n",
      "['reedsd', 2, 4, 5, True, 'string']\n"
     ]
    }
   ],
   "source": [
    "listik = [1, 2, 4, 5, True, 'string']\n",
    "listik_new = listik\n",
    "\n",
    "listik_new[0] = 'reedsd'\n",
    "\n",
    "print(listik_new)\n",
    "print(listik)"
   ]
  },
  {
   "cell_type": "code",
   "execution_count": 64,
   "id": "a14c68ef",
   "metadata": {},
   "outputs": [
    {
     "name": "stdout",
     "output_type": "stream",
     "text": [
      "['fdsfsd', 2, 4, 5, True, 'string']\n",
      "[1, 2, 4, 5, True, 'string']\n"
     ]
    }
   ],
   "source": [
    "listik = [1, 2, 4, 5, True, 'string']\n",
    "\n",
    "listik_clone = listik.copy()\n",
    "\n",
    "listik[0] = 'fdsfsd'\n",
    "\n",
    "print(listik)\n",
    "print(listik_clone)"
   ]
  },
  {
   "cell_type": "markdown",
   "id": "fa3aff97",
   "metadata": {},
   "source": [
    "### 4) .count()"
   ]
  },
  {
   "cell_type": "code",
   "execution_count": 65,
   "id": "502e58c5",
   "metadata": {},
   "outputs": [
    {
     "name": "stdout",
     "output_type": "stream",
     "text": [
      "2\n"
     ]
    }
   ],
   "source": [
    "listik = [1, 2, 4, 5, True, 'string']\n",
    "\n",
    "count_obj = listik.count(1)\n",
    "\n",
    "print(count_obj)"
   ]
  },
  {
   "cell_type": "markdown",
   "id": "e28f1b4b",
   "metadata": {},
   "source": [
    "### 5) .extend() "
   ]
  },
  {
   "cell_type": "code",
   "execution_count": 67,
   "id": "1a761824",
   "metadata": {},
   "outputs": [
    {
     "name": "stdout",
     "output_type": "stream",
     "text": [
      "[1, 2, 4, 5, True, 'string', 'f', 'd', 's', 'f', 'd', 'f', 's']\n"
     ]
    }
   ],
   "source": [
    "listik = [1, 2, 4, 5, True, 'string']\n",
    "\n",
    "another_listik = 'fdsfdfs'\n",
    "\n",
    "listik.extend(another_listik)\n",
    "\n",
    "print(listik)"
   ]
  },
  {
   "cell_type": "markdown",
   "id": "6da0cd22",
   "metadata": {},
   "source": [
    "### 6) index()"
   ]
  },
  {
   "cell_type": "code",
   "execution_count": 69,
   "id": "f614787d",
   "metadata": {},
   "outputs": [
    {
     "name": "stdout",
     "output_type": "stream",
     "text": [
      "3 [1, 2, 4, 5, True, 'string', 5]\n"
     ]
    }
   ],
   "source": [
    "listik = [1, 2, 4, 5, True, 'string', 5]\n",
    "\n",
    "index_obj = listik.index(5)\n",
    "\n",
    "print(index_obj ,listik)"
   ]
  },
  {
   "cell_type": "code",
   "execution_count": 77,
   "id": "c0ee0a82",
   "metadata": {},
   "outputs": [
    {
     "ename": "ValueError",
     "evalue": "23 is not in list",
     "output_type": "error",
     "traceback": [
      "\u001B[0;31m---------------------------------------------------------------------------\u001B[0m",
      "\u001B[0;31mValueError\u001B[0m                                Traceback (most recent call last)",
      "\u001B[0;32m/tmp/ipykernel_8011/2402442708.py\u001B[0m in \u001B[0;36m<module>\u001B[0;34m\u001B[0m\n\u001B[1;32m      4\u001B[0m \u001B[0;34m\u001B[0m\u001B[0m\n\u001B[1;32m      5\u001B[0m \u001B[0;34m\u001B[0m\u001B[0m\n\u001B[0;32m----> 6\u001B[0;31m \u001B[0mindex_obj\u001B[0m \u001B[0;34m=\u001B[0m \u001B[0mlistik\u001B[0m\u001B[0;34m.\u001B[0m\u001B[0mindex\u001B[0m\u001B[0;34m(\u001B[0m\u001B[0msearch_obj\u001B[0m\u001B[0;34m)\u001B[0m\u001B[0;34m\u001B[0m\u001B[0;34m\u001B[0m\u001B[0m\n\u001B[0m\u001B[1;32m      7\u001B[0m \u001B[0mprint\u001B[0m\u001B[0;34m(\u001B[0m\u001B[0mindex_obj\u001B[0m\u001B[0;34m)\u001B[0m\u001B[0;34m\u001B[0m\u001B[0;34m\u001B[0m\u001B[0m\n\u001B[1;32m      8\u001B[0m \u001B[0;34m\u001B[0m\u001B[0m\n",
      "\u001B[0;31mValueError\u001B[0m: 23 is not in list"
     ]
    }
   ],
   "source": [
    "listik = [1, 2, 4, 5, True, 'string', 5]\n",
    "\n",
    "search_obj = 4\n",
    "\n",
    "if search_obj in listik:\n",
    "    index_obj = listik.index(search_obj)\n",
    "    print(index_obj)\n",
    "else:\n",
    "    print('no')\n",
    "\n"
   ]
  },
  {
   "cell_type": "markdown",
   "id": "2242150e",
   "metadata": {},
   "source": [
    "### 7) .insert()"
   ]
  },
  {
   "cell_type": "code",
   "execution_count": 78,
   "id": "4a35b34e",
   "metadata": {},
   "outputs": [
    {
     "name": "stdout",
     "output_type": "stream",
     "text": [
      "[1, 4, 2, 4, 5, True, 'string', 5]\n"
     ]
    }
   ],
   "source": [
    "listik = [1, 2, 4, 5, True, 'string', 5]\n",
    "\n",
    "listik.insert(1, 4)\n",
    "\n",
    "print(listik)"
   ]
  },
  {
   "cell_type": "markdown",
   "id": "a6034851",
   "metadata": {},
   "source": [
    "### 8) .pop()"
   ]
  },
  {
   "cell_type": "code",
   "execution_count": 80,
   "id": "0d220491",
   "metadata": {},
   "outputs": [
    {
     "name": "stdout",
     "output_type": "stream",
     "text": [
      "[1, 2, 5, True, 'string', 5] 4\n"
     ]
    }
   ],
   "source": [
    "listik = [1, 2, 4, 5, True, 'string', 5]\n",
    "\n",
    "a = listik.pop(2)\n",
    "\n",
    "print(listik, a)"
   ]
  },
  {
   "cell_type": "markdown",
   "id": "ab72bee7",
   "metadata": {},
   "source": [
    "### 9) .remove()"
   ]
  },
  {
   "cell_type": "code",
   "execution_count": 84,
   "id": "99ffbe84",
   "metadata": {},
   "outputs": [
    {
     "name": "stdout",
     "output_type": "stream",
     "text": [
      "[1, 5, True, 'string', 5]\n"
     ]
    }
   ],
   "source": [
    "listik = [1, 4, 5, True, 'string', 5]\n",
    "\n",
    "if 4 in listik:\n",
    "    listik.remove(4)\n",
    "\n",
    "    print(listik)\n",
    "else:\n",
    "    print(listik)"
   ]
  },
  {
   "cell_type": "code",
   "execution_count": null,
   "id": "8d49fb98",
   "metadata": {},
   "outputs": [],
   "source": [
    "listik = [1, 4, 5, True, 'string', 5]\n",
    "\n",
    "listik.remove(2)\n",
    "\n",
    "print(listik)"
   ]
  },
  {
   "cell_type": "markdown",
   "id": "13f835b7",
   "metadata": {},
   "source": [
    "### 10) .reverse()"
   ]
  },
  {
   "cell_type": "code",
   "execution_count": 85,
   "id": "c1f89c07",
   "metadata": {},
   "outputs": [
    {
     "name": "stdout",
     "output_type": "stream",
     "text": [
      "[5, 'string', True, 5, 4, 2, 1]\n"
     ]
    }
   ],
   "source": [
    "listik = [1, 2, 4, 5, True, 'string', 5]\n",
    "\n",
    "listik.reverse()\n",
    "\n",
    "print(listik)"
   ]
  },
  {
   "cell_type": "markdown",
   "id": "cab96107",
   "metadata": {},
   "source": [
    "### 11) .sort()"
   ]
  },
  {
   "cell_type": "code",
   "execution_count": 92,
   "id": "f6486c0d",
   "metadata": {},
   "outputs": [
    {
     "data": {
      "text/plain": [
       "114"
      ]
     },
     "execution_count": 92,
     "metadata": {},
     "output_type": "execute_result"
    }
   ],
   "source": [
    "ord('r')"
   ]
  },
  {
   "cell_type": "code",
   "execution_count": 94,
   "id": "b50dcbfe",
   "metadata": {},
   "outputs": [
    {
     "name": "stdout",
     "output_type": "stream",
     "text": [
      "[1, 4.5, 5, 5, 12, 12, 4432, '14431']\n"
     ]
    }
   ],
   "source": [
    "listik = [1, 12, 4432, 5, 12, 5, '14431', 4.5] # ord(), chr()\n",
    "\n",
    "listik.sort(key=lambda x: float(x))\n",
    "\n",
    "print(listik)"
   ]
  },
  {
   "cell_type": "markdown",
   "id": "bbf25403",
   "metadata": {},
   "source": [
    "## Tuple"
   ]
  },
  {
   "cell_type": "markdown",
   "id": "047260d4",
   "metadata": {},
   "source": [
    "Кортеж - это неизменяемый и более быстрый аналог списка. Он защищает хранимые данные от непреднамеренных изменений и может использоваться в качестве ключа в словарях (словарь - ассоциативный массив в python).\n",
    "Создание кортежа."
   ]
  },
  {
   "cell_type": "code",
   "execution_count": null,
   "id": "d27a74ed",
   "metadata": {},
   "outputs": [],
   "source": [
    "my_tuple = () # Создание кортежа с помощью литерала\n",
    "my_tuple = tuple() # Создание кортежа с помощью встроенной функции\n",
    "\n",
    "my_tuple = (1, 2, ['a','b'], 4, 5) # Инициализация кортежа\n",
    "my_tuple = tuple([2, 3, 4]) # Создание кортежа из итерируемого объекта\n",
    "\n",
    "my_tuple = tuple(2**x for x in [0, 1, 2, 3]) # Генератор кортежей"
   ]
  },
  {
   "cell_type": "markdown",
   "id": "afe3db95",
   "metadata": {},
   "source": [
    "Доступные методы\n",
    "\n",
    "   * my_tuple.count(x) - возвращает кол-во элементов со значением x\n",
    "   * my_tuple.index(x,start,end) - возвращает индекс первого найденного x, можно задать промежуток для поиска (опционально)\n",
    "\n",
    "В каких случаях использовать?\n",
    "\n",
    "Для хранения данных вместо списка (если они не предполагают изменений)."
   ]
  },
  {
   "cell_type": "markdown",
   "id": "ec3f7138",
   "metadata": {},
   "source": [
    "### 1) .count()"
   ]
  },
  {
   "cell_type": "code",
   "execution_count": 95,
   "id": "5c02e1c7",
   "metadata": {},
   "outputs": [
    {
     "name": "stdout",
     "output_type": "stream",
     "text": [
      "2\n"
     ]
    }
   ],
   "source": [
    "tuplik = (1, 2, 4432, 5, 12, 5, 14431, 2)\n",
    "\n",
    "count_obj = tuplik.count(2)\n",
    "\n",
    "print(count_obj)"
   ]
  },
  {
   "cell_type": "markdown",
   "id": "bfa15e98",
   "metadata": {},
   "source": [
    "### 2) .index()"
   ]
  },
  {
   "cell_type": "code",
   "execution_count": 98,
   "id": "2bea2b98",
   "metadata": {},
   "outputs": [
    {
     "name": "stdout",
     "output_type": "stream",
     "text": [
      "3\n"
     ]
    }
   ],
   "source": [
    "tuplik = (1, 2, 4, 5, True, 'string', 5)\n",
    "\n",
    "index_obj = tuplik.index(5)\n",
    "\n",
    "print(index_obj)"
   ]
  },
  {
   "cell_type": "code",
   "execution_count": null,
   "id": "3504cd46",
   "metadata": {},
   "outputs": [],
   "source": [
    "def main(a, b):\n",
    "    return (a, 3, 4, b)"
   ]
  },
  {
   "cell_type": "code",
   "execution_count": 99,
   "id": "d93689be",
   "metadata": {},
   "outputs": [],
   "source": [
    "a, b, c = (2, 3, 2)"
   ]
  },
  {
   "cell_type": "code",
   "execution_count": 102,
   "id": "5622c48f",
   "metadata": {},
   "outputs": [
    {
     "data": {
      "text/plain": [
       "2"
      ]
     },
     "execution_count": 102,
     "metadata": {},
     "output_type": "execute_result"
    }
   ],
   "source": [
    "c"
   ]
  },
  {
   "cell_type": "code",
   "execution_count": 103,
   "id": "dcab7340",
   "metadata": {},
   "outputs": [],
   "source": [
    "a = 5\n",
    "b = 3\n",
    "\n",
    "a, b = b, a"
   ]
  },
  {
   "cell_type": "code",
   "execution_count": 104,
   "id": "3b197975",
   "metadata": {},
   "outputs": [
    {
     "data": {
      "text/plain": [
       "(3, 5)"
      ]
     },
     "execution_count": 104,
     "metadata": {},
     "output_type": "execute_result"
    }
   ],
   "source": [
    "a, b"
   ]
  },
  {
   "cell_type": "markdown",
   "id": "35bd2165",
   "metadata": {},
   "source": [
    "## Set"
   ]
  },
  {
   "cell_type": "markdown",
   "id": "445df44c",
   "metadata": {},
   "source": [
    "Множество - это набор уникальных элементов в случайном порядке (неупорядоченный список). Множества примечательны тем, что операция проверки \"принадлежит ли объект множеству\" происходит значительно быстрее аналогичных операций в других структурах данных."
   ]
  },
  {
   "cell_type": "code",
   "execution_count": 109,
   "id": "b4c02e03",
   "metadata": {},
   "outputs": [],
   "source": [
    "my_something = {1, 2 ,4} # !!! Попытка создать множество при помощи литерала даст нам словарь"
   ]
  },
  {
   "cell_type": "code",
   "execution_count": 110,
   "id": "21a9e494",
   "metadata": {},
   "outputs": [
    {
     "data": {
      "text/plain": [
       "set"
      ]
     },
     "execution_count": 110,
     "metadata": {},
     "output_type": "execute_result"
    }
   ],
   "source": [
    "type(my_something)"
   ]
  },
  {
   "cell_type": "code",
   "execution_count": 129,
   "id": "70f90456",
   "metadata": {},
   "outputs": [
    {
     "name": "stdout",
     "output_type": "stream",
     "text": [
      "[3, 4, 5, 3]\n"
     ]
    }
   ],
   "source": [
    "a = [3, 4, 5]\n",
    "print(a)"
   ]
  },
  {
   "cell_type": "code",
   "execution_count": null,
   "id": "2043feea",
   "metadata": {},
   "outputs": [],
   "source": []
  },
  {
   "cell_type": "code",
   "execution_count": null,
   "id": "85bc6f1a",
   "metadata": {},
   "outputs": [],
   "source": [
    "my_set = set() # Создание при помощи встроенной функции\n",
    "my_set = {1, 2, 3, 4, 5} # Инициализация множества\n",
    "\n",
    "my_set = {x * x - 2 / 23 for x in range(10)} # Генератор множеств"
   ]
  },
  {
   "cell_type": "markdown",
   "id": "e242a3ee",
   "metadata": {},
   "source": [
    "Доступные методы\n",
    "\n",
    "   * my_set.add(x) - добавляет x во множество\n",
    "   * my_set.difference(x) - возвращает множество элементов my_set, которые не входят во множество x\n",
    "   * my_set.difference_update(x) - удаляет из множества my_set все элементы, которые входят во множество x\n",
    "   * my_set.discard(x) - удаляет элемент x из my_set\n",
    "   * my_set.intersection(x) - возвращает элементы общие для множеств my_set и x\n",
    "   * my_set.intersection_update(x) - удаляет из множества my_set элементы, которых нет во множестве x\n",
    "   * my_set.isdisjoint(x) - возвращает true если my_set и x не содержат одинаковых значений\n",
    "   * my_set.pop() - возвращает и удаляет первый (на данный момент) элемент множества\n",
    "   * my_set.remove(x) - удаляет x из множества\n",
    "   * my_set.union(x) - возвращает новое множество, состоящее из всех элементов x и my_set\n",
    "   * my_set.update(x) - добавляет в my_set все элементы x\n",
    "\n",
    "В каких случаях использовать?\n",
    "\n",
    "Когда необходимо проверять принадлежит ли значение набору уникальных элементов и отсутствует необходимость поддерживать порядок в данном наборе."
   ]
  },
  {
   "cell_type": "markdown",
   "id": "1fd5cd31",
   "metadata": {},
   "source": [
    "### 1) .add"
   ]
  },
  {
   "cell_type": "code",
   "execution_count": 114,
   "id": "a0c749c7",
   "metadata": {},
   "outputs": [
    {
     "name": "stdout",
     "output_type": "stream",
     "text": [
      "{1, 4, 6, 8, 9, 2345, 10}\n"
     ]
    }
   ],
   "source": [
    "my_set = {1, 6, 2345, 4, 9, 10} \n",
    "\n",
    "my_set.add(8)\n",
    "\n",
    "print(my_set)"
   ]
  },
  {
   "cell_type": "markdown",
   "id": "da5b4c3b",
   "metadata": {},
   "source": [
    "### 2) .difference()"
   ]
  },
  {
   "cell_type": "code",
   "execution_count": 115,
   "id": "44e2850f",
   "metadata": {},
   "outputs": [
    {
     "name": "stdout",
     "output_type": "stream",
     "text": [
      "{3, 4, 5} {1, 2, 3, 4, 5}\n"
     ]
    }
   ],
   "source": [
    "my_set = {1, 2, 3, 4, 5} \n",
    "\n",
    "red = my_set.difference([1, 2])\n",
    "\n",
    "print(red, my_set)"
   ]
  },
  {
   "cell_type": "markdown",
   "id": "9501015f",
   "metadata": {},
   "source": [
    "### 3) .difference_update()"
   ]
  },
  {
   "cell_type": "code",
   "execution_count": 116,
   "id": "1c9623e2",
   "metadata": {},
   "outputs": [
    {
     "name": "stdout",
     "output_type": "stream",
     "text": [
      "{3, 4, 5}\n"
     ]
    }
   ],
   "source": [
    "my_set = {1, 2, 3, 4, 5} \n",
    "\n",
    "my_set.difference_update((1, 2))\n",
    "\n",
    "print(my_set)"
   ]
  },
  {
   "cell_type": "markdown",
   "id": "35faff51",
   "metadata": {},
   "source": [
    "### 4) .discard()"
   ]
  },
  {
   "cell_type": "code",
   "execution_count": 117,
   "id": "c4ce2436",
   "metadata": {},
   "outputs": [
    {
     "name": "stdout",
     "output_type": "stream",
     "text": [
      "{1, 3, 4, 5}\n"
     ]
    }
   ],
   "source": [
    "my_set = {1, 2, 3, 4, 5} \n",
    "\n",
    "my_set.discard(2)\n",
    "\n",
    "print(my_set)"
   ]
  },
  {
   "cell_type": "markdown",
   "id": "1b3b8d2b",
   "metadata": {},
   "source": [
    "### 5) .intersection()"
   ]
  },
  {
   "cell_type": "code",
   "execution_count": 119,
   "id": "84ad3266",
   "metadata": {},
   "outputs": [
    {
     "name": "stdout",
     "output_type": "stream",
     "text": [
      "{2, 3, 4}\n"
     ]
    }
   ],
   "source": [
    "my_set = {1, 2, 3, 4, 5} \n",
    "\n",
    "inter = my_set.intersection([2, 3, 4, 3, 4])\n",
    "\n",
    "print(inter)"
   ]
  },
  {
   "cell_type": "markdown",
   "id": "8f2f259f",
   "metadata": {},
   "source": [
    "### 6) .intersection_update()"
   ]
  },
  {
   "cell_type": "code",
   "execution_count": 120,
   "id": "27198366",
   "metadata": {},
   "outputs": [
    {
     "name": "stdout",
     "output_type": "stream",
     "text": [
      "{2, 3, 4}\n"
     ]
    }
   ],
   "source": [
    "my_set = {1, 2, 3, 4, 5} \n",
    "\n",
    "my_set.intersection_update((2, 3, 4))\n",
    "\n",
    "print(my_set)"
   ]
  },
  {
   "cell_type": "markdown",
   "id": "daf83777",
   "metadata": {},
   "source": [
    "### 7) .isdisjoint()"
   ]
  },
  {
   "cell_type": "code",
   "execution_count": 122,
   "id": "8ae5ae6b",
   "metadata": {},
   "outputs": [
    {
     "name": "stdout",
     "output_type": "stream",
     "text": [
      "True\n"
     ]
    }
   ],
   "source": [
    "my_set = {1, 2, 3, 4, 5} \n",
    "\n",
    "fl = my_set.isdisjoint({8, 10})\n",
    "\n",
    "print(fl)"
   ]
  },
  {
   "cell_type": "markdown",
   "id": "caed7f5d",
   "metadata": {},
   "source": [
    "### 9) .pop()"
   ]
  },
  {
   "cell_type": "code",
   "execution_count": 123,
   "id": "63c244b5",
   "metadata": {},
   "outputs": [
    {
     "name": "stdout",
     "output_type": "stream",
     "text": [
      "1 {2, 3, 4, 5}\n"
     ]
    }
   ],
   "source": [
    "my_set = {1, 2, 3, 4, 5}\n",
    "\n",
    "first = my_set.pop()\n",
    "\n",
    "print(first, my_set)"
   ]
  },
  {
   "cell_type": "markdown",
   "id": "2981bb0a",
   "metadata": {},
   "source": [
    "### 11) .remove()"
   ]
  },
  {
   "cell_type": "code",
   "execution_count": 124,
   "id": "f232bdff",
   "metadata": {},
   "outputs": [
    {
     "name": "stdout",
     "output_type": "stream",
     "text": [
      "{1, 3, 4, 5}\n"
     ]
    }
   ],
   "source": [
    "my_set = {1, 2, 3, 4, 5} \n",
    "\n",
    "my_set.remove(2)\n",
    "\n",
    "print(my_set)"
   ]
  },
  {
   "cell_type": "markdown",
   "id": "c329c61f",
   "metadata": {},
   "source": [
    "### 12) .union()"
   ]
  },
  {
   "cell_type": "code",
   "execution_count": 127,
   "id": "04b323ae",
   "metadata": {},
   "outputs": [
    {
     "ename": "TypeError",
     "evalue": "'int' object is not iterable",
     "output_type": "error",
     "traceback": [
      "\u001B[0;31m---------------------------------------------------------------------------\u001B[0m",
      "\u001B[0;31mTypeError\u001B[0m                                 Traceback (most recent call last)",
      "\u001B[0;32m/tmp/ipykernel_8011/1137867329.py\u001B[0m in \u001B[0;36m<module>\u001B[0;34m\u001B[0m\n\u001B[1;32m      1\u001B[0m \u001B[0mmy_set\u001B[0m \u001B[0;34m=\u001B[0m \u001B[0;34m{\u001B[0m\u001B[0;36m1\u001B[0m\u001B[0;34m,\u001B[0m \u001B[0;36m2\u001B[0m\u001B[0;34m,\u001B[0m \u001B[0;36m3\u001B[0m\u001B[0;34m,\u001B[0m \u001B[0;36m4\u001B[0m\u001B[0;34m,\u001B[0m \u001B[0;36m5\u001B[0m\u001B[0;34m}\u001B[0m\u001B[0;34m\u001B[0m\u001B[0;34m\u001B[0m\u001B[0m\n\u001B[1;32m      2\u001B[0m \u001B[0;34m\u001B[0m\u001B[0m\n\u001B[0;32m----> 3\u001B[0;31m \u001B[0mnew\u001B[0m \u001B[0;34m=\u001B[0m \u001B[0mmy_set\u001B[0m\u001B[0;34m.\u001B[0m\u001B[0munion\u001B[0m\u001B[0;34m(\u001B[0m\u001B[0;36m4\u001B[0m\u001B[0;34m)\u001B[0m\u001B[0;34m\u001B[0m\u001B[0;34m\u001B[0m\u001B[0m\n\u001B[0m\u001B[1;32m      4\u001B[0m \u001B[0;34m\u001B[0m\u001B[0m\n\u001B[1;32m      5\u001B[0m \u001B[0mprint\u001B[0m\u001B[0;34m(\u001B[0m\u001B[0mmy_set\u001B[0m\u001B[0;34m,\u001B[0m \u001B[0mnew\u001B[0m\u001B[0;34m)\u001B[0m\u001B[0;34m\u001B[0m\u001B[0;34m\u001B[0m\u001B[0m\n",
      "\u001B[0;31mTypeError\u001B[0m: 'int' object is not iterable"
     ]
    }
   ],
   "source": [
    "my_set = {1, 2, 3, 4, 5} \n",
    "\n",
    "new = my_set.union(4)\n",
    "\n",
    "print(my_set, new)"
   ]
  },
  {
   "cell_type": "markdown",
   "id": "6f1c176d",
   "metadata": {},
   "source": [
    "### 13) .update()"
   ]
  },
  {
   "cell_type": "code",
   "execution_count": 128,
   "id": "7037ab7a",
   "metadata": {},
   "outputs": [
    {
     "name": "stdout",
     "output_type": "stream",
     "text": [
      "{1, 2, 3, 4, 5, 8}\n"
     ]
    }
   ],
   "source": [
    "my_set = {1, 2, 3, 4, 5} \n",
    "\n",
    "my_set.update([5, 8])\n",
    "\n",
    "print(my_set)"
   ]
  }
 ],
 "metadata": {
  "kernelspec": {
   "display_name": "Python 3 (ipykernel)",
   "language": "python",
   "name": "python3"
  },
  "language_info": {
   "codemirror_mode": {
    "name": "ipython",
    "version": 3
   },
   "file_extension": ".py",
   "mimetype": "text/x-python",
   "name": "python",
   "nbconvert_exporter": "python",
   "pygments_lexer": "ipython3",
   "version": "3.8.10"
  }
 },
 "nbformat": 4,
 "nbformat_minor": 5
}
